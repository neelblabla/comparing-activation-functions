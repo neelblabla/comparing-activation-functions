{
 "cells": [
  {
   "cell_type": "code",
   "execution_count": null,
   "metadata": {},
   "outputs": [],
   "source": [
    "# import libraries"
   ]
  },
  {
   "cell_type": "code",
   "execution_count": null,
   "metadata": {},
   "outputs": [],
   "source": [
    "# Import dataset, train test split, standardization etc."
   ]
  },
  {
   "cell_type": "code",
   "execution_count": null,
   "metadata": {},
   "outputs": [],
   "source": [
    "# Place model here"
   ]
  },
  {
   "cell_type": "code",
   "execution_count": null,
   "metadata": {},
   "outputs": [],
   "source": [
    "# Reseting weights after each iteration of looped training/predictions\n",
    "def reset_weights(model):\n",
    "    for layer in model.layers:\n",
    "        if isinstance(layer, tf.keras.Model): #if you're using a model as a layer\n",
    "            reset_weights(layer) #apply function recursively\n",
    "            continue\n",
    "\n",
    "        #where are the initializers?\n",
    "        if hasattr(layer, 'cell'):\n",
    "            init_container = layer.cell\n",
    "        else:\n",
    "            init_container = layer\n",
    "\n",
    "        for key, initializer in init_container.__dict__.items():\n",
    "            if \"initializer\" not in key: #is this item an initializer?\n",
    "                  continue #if no, skip it\n",
    "\n",
    "            # find the corresponding variable, like the kernel or the bias\n",
    "            if key == 'recurrent_initializer': #special case check\n",
    "                var = getattr(init_container, 'recurrent_kernel')\n",
    "            else:\n",
    "                var = getattr(init_container, key.replace(\"_initializer\", \"\"))\n",
    "\n",
    "            var.assign(initializer(var.shape, var.dtype))\n",
    "            #use the initializer"
   ]
  },
  {
   "cell_type": "code",
   "execution_count": null,
   "metadata": {},
   "outputs": [],
   "source": [
    "# Run the loop\n",
    "res=[]\n",
    "std=[]\n",
    "\n",
    "for i in range(100):\n",
    "\n",
    "    history = model.fit(x=X_train, y={\"retmean_output\": ym_train},\n",
    "                    batch_size=batch_size,\n",
    "                    epochs=epochs)\n",
    "    \n",
    "    pred = model.predict(X_test)\n",
    "    res.append(pred)\n",
    "    stdb = np.std(res)\n",
    "    std.append(stdb)\n",
    "    \n",
    "    model.reset_states()\n",
    "    reset_weights(model)"
   ]
  },
  {
   "cell_type": "code",
   "execution_count": null,
   "metadata": {},
   "outputs": [],
   "source": [
    "# reshape results\n",
    "resmean = pd.DataFrame(list(map(np.ravel, res)))\n",
    "resmeanm = resmean.mean(axis=0)\n",
    "resmeanm = np.array(resmeanm)\n",
    "resmeanm = np.reshape(resmeanm, (resmeanm.shape[0], 1))"
   ]
  },
  {
   "cell_type": "code",
   "execution_count": null,
   "metadata": {},
   "outputs": [],
   "source": [
    "# Show how the predictions converge\n",
    "plt.figure(figsize=(7, 2), dpi=80)\n",
    "\n",
    "plt.plot(std, color = 'black')\n",
    "plt.title('American Express Co.')\n",
    "plt.xlabel('Number of iterations')\n",
    "plt.ylabel('Standard deviation')\n",
    "plt.show()"
   ]
  },
  {
   "cell_type": "code",
   "execution_count": null,
   "metadata": {},
   "outputs": [],
   "source": [
    "# Look at the results\n",
    "diff_res = np.subtract(ym_test, resmeanm)\n",
    "sq_res = np.square(diff_res)\n",
    "mse_res = sq_res.mean()\n",
    "\n",
    "print(mse_res)"
   ]
  },
  {
   "cell_type": "code",
   "execution_count": null,
   "metadata": {},
   "outputs": [],
   "source": [
    "# look at the results graphically\n",
    "plt.plot(ym_test, color = 'black', label = 'Real ret.MidQ mean')\n",
    "plt.plot(resmeanm, color = 'green', label = 'Predicted ret.MidQ mean')\n",
    "plt.title('ret.MidQ mean Prediction')\n",
    "plt.xlabel('Days')\n",
    "plt.ylabel('scaled ret.MidQ mean')\n",
    "plt.legend()\n",
    "plt.show()"
   ]
  }
 ],
 "metadata": {
  "language_info": {
   "name": "python"
  },
  "orig_nbformat": 4
 },
 "nbformat": 4,
 "nbformat_minor": 2
}
