{
 "cells": [
  {
   "cell_type": "markdown",
   "metadata": {
    "deletable": false,
    "editable": false,
    "nbgrader": {
     "cell_type": "markdown",
     "checksum": "90b505bf66f15d03aff4e3ab0f068ee5",
     "grade": false,
     "grade_id": "cell-5d1d20c74b087106",
     "locked": true,
     "schema_version": 3,
     "solution": false
    }
   },
   "source": [
    "<img src=\"logo-2020.png\" alt=\"logo\" width=\"150\"/>"
   ]
  },
  {
   "cell_type": "markdown",
   "metadata": {
    "deletable": false,
    "editable": false,
    "nbgrader": {
     "cell_type": "markdown",
     "checksum": "c3074f52da7dc59038ecb480c6757cbe",
     "grade": false,
     "grade_id": "cell-5021e662bf6b89bc",
     "locked": true,
     "schema_version": 3,
     "solution": false
    }
   },
   "source": [
    "---\n",
    "# Problem Set 4 Notebook 3 \n",
    "## Introduction to Deep Learning  (5 points total)\n",
    "\n",
    "## Instructions\n",
    "\n",
    "Problem set 4, ps4, consists of three notebooks:\n",
    "\n",
    "    ps4_nb1.ipynb\n",
    "    ps4_nb2.ipynb\n",
    "    ps4_nb3.ipynb  \n",
    "\n",
    "### Instructor\n",
    "\n",
    "- Prof. Dr. Gregory Wheeler (`g.wheeler@fs.de`)\n",
    "\n",
    "\n",
    "---"
   ]
  },
  {
   "cell_type": "markdown",
   "metadata": {
    "deletable": false,
    "editable": false,
    "nbgrader": {
     "cell_type": "markdown",
     "checksum": "96e67089284b806a138665820ecb83ba",
     "grade": false,
     "grade_id": "cell-18a53e9b7cd038b0",
     "locked": true,
     "schema_version": 3,
     "solution": false
    }
   },
   "source": [
    "In this exercise you will build a <b>classifier for articles of clothing</b> using the [keras library](https://keras.io/) to construct a neural network.  This exercise works with the <b>Fashion MNST</b> dataset, a data set of 60,000 greyscale 28x28 pixel images of ten different types clothes.\n",
    "\n",
    "Building (deep) neural networks with keras is very straightforward. The complications typically come from tuning the models and a need to shrewdly manage your computational resources.\n",
    "\n",
    "\n",
    "## Overview \n",
    "\n",
    "In this exercise you will use a simple validation set accuracy score `val_accuracy` to guide you in tuning the parameters of your model.  In practice, of course, one would optimize many different parameters -- such as which loss function to use, which activation function, the drop out rate, the number of layers, the number of units per layer, momentum, and which optimization algorithm to use, and tuning parameters for that algorithm.  In this exercise we will focus on just a couple of parameters that are particular to neural networks.\n",
    "\n",
    "\n",
    "After loading libraries and formatting data in the first three sections, section IV, <b>Build and Train your Model</b>, includes three steps that are at the core of the assignment: \n",
    "\n",
    "  - <b>Step 1.</b> _Specify a Densely Connected Sequential Model Network._ This is performed by `buildSequentialModel()`, which is __a function  you complete__ to specify how many `layers` your model will have,  the number of `units` per layer, and the `dropout` rate of each layer. A template is provided that specifies other parameters that are fixed for the assignment, such as the kind of network, the activation functions, and some formatting.\n",
    "  \n",
    "  \n",
    "  - __Step 2.__ _Instantiate and Compile the Model_.  This __code is written for you__. This step instantiates a model according to the specifications you provide by `buildSequentialModel()` and compiles a model according to an optimizer, loss function, and performance metric -- all of which are set for you to standardize grading.  (In practice, however, selecting an optimizer and loss function are an additional hyperparamters that you would need to select to tune your model, and the choice of performance metric would depend on the objectives of the model.)\n",
    "  \n",
    "  \n",
    "  - __Step 3.__ _Train the Model_. This is performed by the `model.fit()` method, where __you choose__ the `epoch` and `batch_size`.  Sample values are provided for you.  \n",
    "\n",
    "Steps 4 and 5 outline how you might evaluate your model with an eye to improving the performance. \n",
    "\n",
    "Finally, in section V, your task is to specify a model architecture and dropout rates with `buildSequentialModel()`  and hyperparameters for that model in `myDeepNetworkParameters()` to achive the highest `val_accuracy` score you can. \n",
    "\n",
    "---\n"
   ]
  },
  {
   "cell_type": "markdown",
   "metadata": {
    "deletable": false,
    "editable": false,
    "nbgrader": {
     "cell_type": "markdown",
     "checksum": "c3a91f63b83a6bc4ffd679ecb440352c",
     "grade": false,
     "grade_id": "cell-77f9aefd011da798",
     "locked": true,
     "schema_version": 3,
     "solution": false
    }
   },
   "source": [
    "## I. Loading libraries\n",
    "\n",
    "Import keras and the relevant packages to build a dense sequential model.  Additionally, you will import `Dropout`, a keras package for regularization;  `Activation`, which allows for a wider range of options for initializing the initial parameter matrix weights; and `Flatten`, which allows you to unroll $m\\times n$ pixel images to vectors of length $(m\\times n)$.  We also will use some keras utilities from `np_utils`.\n"
   ]
  },
  {
   "cell_type": "code",
   "execution_count": 1,
   "metadata": {},
   "outputs": [
    {
     "ename": "ModuleNotFoundError",
     "evalue": "No module named 'livelossplot'",
     "output_type": "error",
     "traceback": [
      "\u001b[1;31m---------------------------------------------------------------------------\u001b[0m",
      "\u001b[1;31mModuleNotFoundError\u001b[0m                       Traceback (most recent call last)",
      "Cell \u001b[1;32mIn [1], line 3\u001b[0m\n\u001b[0;32m      1\u001b[0m \u001b[38;5;28;01mimport\u001b[39;00m \u001b[38;5;21;01mnumpy\u001b[39;00m \u001b[38;5;28;01mas\u001b[39;00m \u001b[38;5;21;01mnp\u001b[39;00m\n\u001b[0;32m      2\u001b[0m \u001b[38;5;28;01mimport\u001b[39;00m \u001b[38;5;21;01mmatplotlib\u001b[39;00m\u001b[38;5;21;01m.\u001b[39;00m\u001b[38;5;21;01mpyplot\u001b[39;00m \u001b[38;5;28;01mas\u001b[39;00m \u001b[38;5;21;01mplt\u001b[39;00m\n\u001b[1;32m----> 3\u001b[0m \u001b[38;5;28;01mfrom\u001b[39;00m \u001b[38;5;21;01mlivelossplot\u001b[39;00m \u001b[38;5;28;01mimport\u001b[39;00m PlotLossesKeras\n\u001b[0;32m      4\u001b[0m \u001b[38;5;66;03m# import keras models\u001b[39;00m\n\u001b[0;32m      5\u001b[0m \u001b[38;5;28;01mfrom\u001b[39;00m \u001b[38;5;21;01mtensorflow\u001b[39;00m \u001b[38;5;28;01mimport\u001b[39;00m keras\n",
      "\u001b[1;31mModuleNotFoundError\u001b[0m: No module named 'livelossplot'"
     ]
    }
   ],
   "source": [
    "import numpy as np\n",
    "import matplotlib.pyplot as plt\n",
    "from livelossplot import PlotLossesKeras\n",
    "# import keras models\n",
    "from tensorflow import keras\n",
    "from keras.models import Sequential\n",
    "from keras.layers.core import Dense, Dropout, Activation, Flatten\n",
    "from keras.utils import np_utils"
   ]
  },
  {
   "cell_type": "markdown",
   "metadata": {},
   "source": [
    "Next, the random seed is fixed to ensure replicability."
   ]
  },
  {
   "cell_type": "code",
   "execution_count": null,
   "metadata": {
    "deletable": false,
    "editable": false,
    "nbgrader": {
     "cell_type": "code",
     "checksum": "aede727d92d0d677ec9896144ed1dcc9",
     "grade": false,
     "grade_id": "cell-a86b28ec18b29719",
     "locked": true,
     "schema_version": 3,
     "solution": false
    }
   },
   "outputs": [],
   "source": [
    "# set random seed globally\n",
    "my_seed = 21\n",
    "from numpy.random import seed\n",
    "seed(my_seed)\n",
    "import tensorflow as tf\n",
    "tf.random.set_seed(my_seed) \n",
    "# tensorflow version\n",
    "print(tf.__version__)"
   ]
  },
  {
   "cell_type": "markdown",
   "metadata": {
    "deletable": false,
    "editable": false,
    "nbgrader": {
     "cell_type": "markdown",
     "checksum": "dae19774c42d818fd8509abd0a41bb0a",
     "grade": false,
     "grade_id": "cell-7895b84b5b6f8025",
     "locked": true,
     "schema_version": 3,
     "solution": false
    }
   },
   "source": [
    "### The Fashion MINST data set \n",
    "\n",
    "The <b>Fashion-MNIST</b> data set consists of 60,000 greyscale images of clothing items from [Zalando](https://jobs.zalando.com/en/tech/?gh_src=281f2ef41us). Each example is a 28x28 pixel image associated with a label from 10 categories:\n",
    "\n",
    "| Label | Description |\n",
    "|-------|-------------|\n",
    "|   0   | T-shirt/Top |\n",
    "|   1   | Trousers    |\n",
    "|   2   | Pullover    |\n",
    "|   3   | Dress       |\n",
    "|   4   | Coat        |\n",
    "|   5   | Sandal      |\n",
    "|   6   | Shirt       |\n",
    "|   7   | Sneaker     |\n",
    "|   8   | Bag         |\n",
    "|   9   | Ankle Boot  |\n",
    "\n",
    "\n",
    "Here is a sample from the data set which displays three rows of examples per class:\n",
    "\n",
    "<img src=\"ps4_fig04-fashion-mnist.png\" width=\"750\"/>\n",
    "\n",
    "\n",
    "Conveniently, the Fashion MNIST data set, called `fashion_mnist`, is included in the keras library. Import it from `keras.datasets` in the next cell."
   ]
  },
  {
   "cell_type": "code",
   "execution_count": null,
   "metadata": {
    "deletable": false,
    "editable": false,
    "nbgrader": {
     "cell_type": "code",
     "checksum": "6890cab8060c0b829838aff21ee2a3b6",
     "grade": false,
     "grade_id": "import_data",
     "locked": true,
     "schema_version": 3,
     "solution": false
    }
   },
   "outputs": [],
   "source": [
    "# import fashion mnst dataset\n",
    "from keras.datasets import fashion_mnist"
   ]
  },
  {
   "cell_type": "markdown",
   "metadata": {
    "deletable": false,
    "editable": false,
    "nbgrader": {
     "cell_type": "markdown",
     "checksum": "ac70c4fc0310019a2cacda3baf1d9dc1",
     "grade": false,
     "grade_id": "cell-1649d04236c85ba2",
     "locked": true,
     "schema_version": 3,
     "solution": false
    }
   },
   "source": [
    "Next, define the number of classes for your classifier.  There are ten types of clothing articles in the database. The variable `nb_classes` will be used to set the total number of classes.  "
   ]
  },
  {
   "cell_type": "code",
   "execution_count": null,
   "metadata": {
    "deletable": false,
    "editable": false,
    "nbgrader": {
     "cell_type": "code",
     "checksum": "b41984cbbf825e01c7f91b41db6cd41a",
     "grade": false,
     "grade_id": "cell-c6be04c7a013f7f7",
     "locked": true,
     "schema_version": 3,
     "solution": false
    }
   },
   "outputs": [],
   "source": [
    "# Set the total number of classes\n",
    "nb_classes = 10"
   ]
  },
  {
   "cell_type": "markdown",
   "metadata": {
    "deletable": false,
    "editable": false,
    "nbgrader": {
     "cell_type": "markdown",
     "checksum": "2ad93536e23e2eda913194b925c1761d",
     "grade": false,
     "grade_id": "cell-7d556f8db6fdd4a4",
     "locked": true,
     "schema_version": 3,
     "solution": false
    }
   },
   "source": [
    "Now you are ready to prepare the data by defining a training set `X_train`, `y_train` and a test set `X_test`, `y_test` from the data set `fashion_mnist` that you loaded from `keras.datasets`.  \n",
    "\n",
    "Running the next cell does this for you."
   ]
  },
  {
   "cell_type": "code",
   "execution_count": 2,
   "metadata": {
    "deletable": false,
    "editable": false,
    "nbgrader": {
     "cell_type": "code",
     "checksum": "9fc70ceda55a374b81f1f33423e5e9c9",
     "grade": false,
     "grade_id": "cell-dac58a285cbd5c6d",
     "locked": true,
     "schema_version": 3,
     "solution": false
    }
   },
   "outputs": [
    {
     "ename": "NameError",
     "evalue": "name 'fashion_mnist' is not defined",
     "output_type": "error",
     "traceback": [
      "\u001b[1;31m---------------------------------------------------------------------------\u001b[0m",
      "\u001b[1;31mNameError\u001b[0m                                 Traceback (most recent call last)",
      "Cell \u001b[1;32mIn [2], line 2\u001b[0m\n\u001b[0;32m      1\u001b[0m \u001b[38;5;66;03m# the data, shuffled and split between train and test sets\u001b[39;00m\n\u001b[1;32m----> 2\u001b[0m (X_train, y_train), (X_test, y_test) \u001b[38;5;241m=\u001b[39m \u001b[43mfashion_mnist\u001b[49m\u001b[38;5;241m.\u001b[39mload_data()\n\u001b[0;32m      3\u001b[0m \u001b[38;5;28mprint\u001b[39m(\u001b[38;5;124m\"\u001b[39m\u001b[38;5;124mX_train original shape of images\u001b[39m\u001b[38;5;124m\"\u001b[39m, X_train\u001b[38;5;241m.\u001b[39mshape)\n\u001b[0;32m      4\u001b[0m \u001b[38;5;28mprint\u001b[39m(\u001b[38;5;124m\"\u001b[39m\u001b[38;5;124my_train original shape of label vector\u001b[39m\u001b[38;5;124m\"\u001b[39m, y_train\u001b[38;5;241m.\u001b[39mshape)\n",
      "\u001b[1;31mNameError\u001b[0m: name 'fashion_mnist' is not defined"
     ]
    }
   ],
   "source": [
    "# the data, shuffled and split between train and test sets\n",
    "(X_train, y_train), (X_test, y_test) = fashion_mnist.load_data()\n",
    "print(\"X_train original shape of images\", X_train.shape)\n",
    "print(\"y_train original shape of label vector\", y_train.shape)"
   ]
  },
  {
   "cell_type": "markdown",
   "metadata": {
    "deletable": false,
    "editable": false,
    "nbgrader": {
     "cell_type": "markdown",
     "checksum": "dac7d648168465a5e3ddc9860e093580",
     "grade": false,
     "grade_id": "cell-1aa722ecc28acbeb",
     "locked": true,
     "schema_version": 3,
     "solution": false
    }
   },
   "source": [
    "## II. Visualize your data\n",
    "Next, inspect your data.  Running the next cell will display the first 12 images from the fashion mnist data set, arranged in a 3 x 4 grid."
   ]
  },
  {
   "cell_type": "code",
   "execution_count": 3,
   "metadata": {},
   "outputs": [
    {
     "ename": "NameError",
     "evalue": "name 'X_train' is not defined",
     "output_type": "error",
     "traceback": [
      "\u001b[1;31m---------------------------------------------------------------------------\u001b[0m",
      "\u001b[1;31mNameError\u001b[0m                                 Traceback (most recent call last)",
      "Cell \u001b[1;32mIn [3], line 7\u001b[0m\n\u001b[0;32m      5\u001b[0m plt\u001b[38;5;241m.\u001b[39msubplot(\u001b[38;5;241m3\u001b[39m,\u001b[38;5;241m4\u001b[39m,ii\u001b[38;5;241m+\u001b[39m\u001b[38;5;241m1\u001b[39m)\n\u001b[0;32m      6\u001b[0m plt\u001b[38;5;241m.\u001b[39msubplots_adjust(hspace\u001b[38;5;241m=\u001b[39m\u001b[38;5;241m0.8\u001b[39m)\n\u001b[1;32m----> 7\u001b[0m plt\u001b[38;5;241m.\u001b[39mimshow(\u001b[43mX_train\u001b[49m[ii], cmap\u001b[38;5;241m=\u001b[39m\u001b[38;5;124m'\u001b[39m\u001b[38;5;124mgray\u001b[39m\u001b[38;5;124m'\u001b[39m, interpolation\u001b[38;5;241m=\u001b[39m\u001b[38;5;124m'\u001b[39m\u001b[38;5;124mnone\u001b[39m\u001b[38;5;124m'\u001b[39m)\n\u001b[0;32m      8\u001b[0m plt\u001b[38;5;241m.\u001b[39mtitle(\u001b[38;5;124m\"\u001b[39m\u001b[38;5;124mClass \u001b[39m\u001b[38;5;132;01m{}\u001b[39;00m\u001b[38;5;124m\"\u001b[39m\u001b[38;5;241m.\u001b[39mformat(y_train[ii]))\n",
      "\u001b[1;31mNameError\u001b[0m: name 'X_train' is not defined"
     ]
    },
    {
     "data": {
      "image/png": "[encoded data removed]",
      "text/plain": [
       "<Figure size 1000x700 with 1 Axes>"
      ]
     },
     "metadata": {},
     "output_type": "display_data"
    }
   ],
   "source": [
    "# inspect your data\n",
    "from matplotlib.pyplot import figure\n",
    "plt.figure(figsize= (10,7))\n",
    "for ii in range(12):\n",
    "    plt.subplot(3,4,ii+1)\n",
    "    plt.subplots_adjust(hspace=0.8)\n",
    "    plt.imshow(X_train[ii], cmap='gray', interpolation='none')\n",
    "    plt.title(\"Class {}\".format(y_train[ii]))"
   ]
  },
  {
   "cell_type": "markdown",
   "metadata": {},
   "source": [
    "## III. Format your data\n",
    "Your training set consists of 60,000 images, each 28 x 28 pixels. Greyscale pixel values range between 0 (black) and 255 (white). The next block of code rescales pixel values to a float between 0 (black) and 1 (white).\n",
    "\n",
    "~~~python\n",
    "# Format training set\n",
    "X_train = X_train.astype('float32')\n",
    "X_train = X_train/255\n",
    "\n",
    "# Format test set\n",
    "X_test = X_test.astype('float32')\n",
    "X_test = X_test/255\n",
    "\n",
    "print(\"Training matrix shape\", X_train.shape)\n",
    "print(\"Testing matrix shape\", X_test.shape)\n",
    "~~~\n"
   ]
  },
  {
   "cell_type": "code",
   "execution_count": 178,
   "metadata": {
    "deletable": false,
    "editable": false,
    "nbgrader": {
     "cell_type": "code",
     "checksum": "1967ccae24d319f3ae0733edb89b880f",
     "grade": false,
     "grade_id": "cell-6b970f55a10d2e99",
     "locked": true,
     "schema_version": 3,
     "solution": false
    }
   },
   "outputs": [
    {
     "name": "stdout",
     "output_type": "stream",
     "text": [
      "Training matrix shape is (60000, 28, 28)\n",
      "Testing matrix shape is (10000, 28, 28)\n"
     ]
    }
   ],
   "source": [
    "# standardize training set\n",
    "X_train = X_train.astype('float32')\n",
    "X_train = X_train/255\n",
    "\n",
    "# standardize test set \n",
    "X_test = X_test.astype('float32')\n",
    "X_test = X_test/255\n",
    "\n",
    "print(\"Training matrix shape is\", X_train.shape)\n",
    "print(\"Testing matrix shape is\", X_test.shape)"
   ]
  },
  {
   "cell_type": "markdown",
   "metadata": {
    "deletable": false,
    "editable": false,
    "nbgrader": {
     "cell_type": "markdown",
     "checksum": "d553d84884a3f7235ff389fe82b50507",
     "grade": false,
     "grade_id": "cell-73a4cc97def6228f",
     "locked": true,
     "schema_version": 3,
     "solution": false
    }
   },
   "source": [
    "## IV. Build and Train your Model \n",
    "\n",
    "\n",
    "### STEP 1. Specify a densley connected sequential network\n",
    "\n",
    "Your task is to build a densely connected sequential model in keras that has <b>one input layer</b> with 784 nodes, some number of hidden layers with <b>ReLU activation</b> functions for all nodes in each hidden layer, and a 10-node <b>ouput layer</b> with <b>sofmax activation</b> functions for all 10 nodes.  You may use [Dropout regularization](https://machinelearningmastery.com/dropout-regularization-deep-learning-models-keras/) for each layer except the input and output layers.  The dropout [rate](https://keras.io/api/layers/regularization_layers/dropout/) is a number between 0 and 1 denoting proportion of units of a layer to ignore in the corresponding layer being ignored in training.  You will also need to specify the number of nodes in each layer -- the `-1-` argument in the template, below.  \n",
    "\n",
    "~~~python\n",
    "def buildSequentialModel():\n",
    "    # Build a Sequential Model.\n",
    "    model = Sequential()\n",
    "    model.add(Flatten(input_shape=(28, 28)))\n",
    "\n",
    "    #-- TEMPLATE \n",
    "    ##- Input Layer and First Hidden Layer\n",
    "    model.add(Dense(-1-, kernel_initializer='normal', activation='relu'))\n",
    "\n",
    "    ##- Second Hidden Layer (etc.)\n",
    "    model.add(---)\n",
    "\n",
    "    # Output Layer\n",
    "    model.add(Dense(10, activation='softmax'))\n",
    "    \n",
    "    return model\n",
    "\n",
    "~~~\n",
    "The first line specifies the input layer and the first hidden layer of the model.  Keras expects you to specify the dimension of the input, which is 28x28 that we unroll to a vector of length 784 using the method `Flatten(input_shape = (m, n))`.  For example, suppose we have a data set of $4 \\times 5$ grey scale images of geometric shapes.  Intuitively, the following picture illustrates an $4 \\times 5$ image of a triangle and the corresponding 20-d \"flattened\" vector:\n",
    "\n",
    "<img src=\"ps4_fig03.png\" alt=\"flatten\" width=\"550\"/>\n",
    "\n",
    "\n",
    "<b>You will be building `Dense`, `Sequential()` models only.</b>  \n",
    "\n",
    "You may add `Dropout` regularization to the hidden layers using `model.add(Dropout(-p-)`, where `-p-` is a probability. As a rough guide, no more than 3 hidden layers should suffice for this assignment.\n",
    "\n",
    "The last layer is the output layer, which uses `activation = 'softmax'` since we have 10 classes. "
   ]
  },
  {
   "cell_type": "code",
   "execution_count": 179,
   "metadata": {
    "deletable": false,
    "nbgrader": {
     "cell_type": "code",
     "checksum": "fc2f1b7e045f6862b1b12467572920d6",
     "grade": false,
     "grade_id": "Build_Your_Network",
     "locked": false,
     "schema_version": 3,
     "solution": true,
     "task": false
    }
   },
   "outputs": [],
   "source": [
    "def buildSequentialModel():\n",
    "    # Build a Sequential Model.\n",
    "    model = Sequential()\n",
    "    model.add(Flatten(input_shape=(28, 28)))\n",
    "    \n",
    "    # YOUR CODE HERE\n",
    "    model.add(Dense(500, kernel_initializer='normal', activation='relu'))\n",
    "    model.add(Dropout(0.2))\n",
    "    \n",
    "    model.add(Dense(350, kernel_initializer='normal', activation='relu'))\n",
    "    model.add(Dropout(0.15))\n",
    "\n",
    "    # Output Layer\n",
    "    model.add(Dense(10, activation='softmax'))\n",
    "   \n",
    "    return model"
   ]
  },
  {
   "cell_type": "markdown",
   "metadata": {
    "deletable": false,
    "editable": false,
    "nbgrader": {
     "cell_type": "markdown",
     "checksum": "cd4fac6aa2fbf5f956839d1d3f2163a0",
     "grade": false,
     "grade_id": "cell-6d55c0302e289957",
     "locked": true,
     "schema_version": 3,
     "solution": false
    }
   },
   "source": [
    "### STEP 2.  Instantiate and Compile the Model\n",
    "\n",
    "You have been introduced to gradient descent and the BFGS algorithm.  For this assignment, you will use the <i>adaptive moment estimation</i> algorithm, which is commonly referred to simply as <b>Adam</b>. Adam has been shown to work very well across a wide range of deep learning architectures.  \n",
    "\n",
    "As for the loss function, we will use <i>categorical crossentropy</i>. Actually, you've seen this cost function in the binomial form:  the cost function we used for logistic regression in binary classification problems is a special case of categorical crossentropy. The learning rate has been set for you to `0.001`. \n",
    "\n",
    "Finally, we will measure the performance of our models by their accuracy.  Thus, the metric we will use is simply `'accuracy'`.\n",
    "\n",
    "~~~python\n",
    "# compile model\n",
    "model.compile(optimizer=keras.optimizers.Adam(learning_rate=0.001),\n",
    "                loss=keras.losses.SparseCategoricalCrossentropy(),\n",
    "                metrics=['accuracy'])\n",
    "~~~\n",
    "\n",
    "The next cell instantiates your model with `buildSequentialModel()` then compiles your model using the adam optimizer with a learning rate of 0.001 with categorical crossentropy as the loss function and accuracy as the performance metric."
   ]
  },
  {
   "cell_type": "code",
   "execution_count": 180,
   "metadata": {
    "deletable": false,
    "editable": false,
    "nbgrader": {
     "cell_type": "code",
     "checksum": "f32735ed02a090911b177e52fbd18964",
     "grade": false,
     "grade_id": "cell-3b949d5d6f5ecab3",
     "locked": true,
     "schema_version": 3,
     "solution": false
    }
   },
   "outputs": [],
   "source": [
    "# instantiate model\n",
    "model = buildSequentialModel()\n",
    "# compile model\n",
    "#model.compile(loss='categorical_crossentropy', optimizer='adam')\n",
    "model.compile(optimizer=keras.optimizers.Adam(learning_rate=0.001),\n",
    "                loss=keras.losses.SparseCategoricalCrossentropy(),\n",
    "                metrics=['accuracy'])"
   ]
  },
  {
   "cell_type": "markdown",
   "metadata": {},
   "source": [
    "\n",
    "### STEP 3. Train the Model  \n",
    "Now we are ready to train the model.  This step, as we saw in recent assignments, will take some time.  We have set the epochs, to 2 to minimize unnecessary computations involved in distributing the notebooks to you, but epochs can be expected to range between 10 and 50.  We also set a relatively high batch size of 1000, again solely for computational reasons.  \n",
    "\n",
    "There is a trade-off between batch size and number of epochs such that the smaller batch size the smaller the maximum number of epochs you can afford to compute, and the larger the batch size the higher the maximum number of epochs you can run.    \n",
    "\n",
    "Since we have <b>validation data</b>, you should include the optional parameter `validation_data=(X_test, Y_test)`.\n",
    "\n",
    "~~~python\n",
    "model.fit(X_train, Y_train, \n",
    "          batch_size = 1024, epochs=2, verbose=1, \n",
    "          validation_data=(X_test, y_test))\n",
    "~~~\n",
    "\n",
    "The code in the next cell can be modified by you to vary the `batch_size` and `epochs`."
   ]
  },
  {
   "cell_type": "code",
   "execution_count": 181,
   "metadata": {},
   "outputs": [
    {
     "name": "stdout",
     "output_type": "stream",
     "text": [
      "Epoch 1/2\n",
      "59/59 [==============================] - 1s 17ms/step - loss: 0.7028 - accuracy: 0.7541 - val_loss: 0.4722 - val_accuracy: 0.8345\n",
      "Epoch 2/2\n",
      "59/59 [==============================] - 1s 14ms/step - loss: 0.4358 - accuracy: 0.8451 - val_loss: 0.4116 - val_accuracy: 0.8543\n"
     ]
    },
    {
     "data": {
      "text/plain": [
       "<keras.callbacks.History at 0x7f30006c4048>"
      ]
     },
     "execution_count": 181,
     "metadata": {},
     "output_type": "execute_result"
    }
   ],
   "source": [
    "model.fit(X_train, y_train,\n",
    "          batch_size=1024, epochs=2, verbose=1,\n",
    "          validation_data=(X_test, y_test))"
   ]
  },
  {
   "cell_type": "markdown",
   "metadata": {},
   "source": [
    "The way to read the output from each epoch, from left to right, is:\n",
    "\n",
    "- `_s _ms/step` the time in seconds and milliseconds per step.\n",
    "-  `loss:` computes the cross-entropy score on the training data; \n",
    "- `accuracy:` computes the traning accuracy\n",
    "- `val_loss` computes the cross-entropy loss on the test/validation set .\n",
    "- `val_accuracy`: computes the accuracy score on the test/validation set.\n",
    "\n",
    "For this exercise, we will evaluate the performance of your model solely by its final `val_accuracy` score.\n",
    "\n",
    "Note that the `model.fit` is using the cross-entropy score as the loss function for optimization. You will recall from earlier lectures that `loss` and `val_loss` will vary and `accuracy` and `val_accuracy` will vary, giving you some insight into when your model underfits or overfits the data. "
   ]
  },
  {
   "cell_type": "markdown",
   "metadata": {
    "deletable": false,
    "editable": false,
    "nbgrader": {
     "cell_type": "markdown",
     "checksum": "bfb6a1c096ebd71f67e7368a16c12836",
     "grade": false,
     "grade_id": "cell-b728f8a63b4bd496",
     "locked": true,
     "schema_version": 3,
     "solution": false
    }
   },
   "source": [
    "### STEP 4. Evaluate Model\n",
    "The next step is to evaluate the performance of your model. Here we are primarily interested in minimizing cross validation (CV) error, which is the variable `val_loss`.  To see the full test score, run the next cell.\n",
    "\n",
    "~~~python\n",
    "#scores = model.evaluate(X_test, Y_test, verbose=0)\n",
    "score = model.evaluate(X_test, Y_test, verbose=1)\n",
    "print('Your CV accuracy score is:', score)\n",
    "~~~"
   ]
  },
  {
   "cell_type": "code",
   "execution_count": 182,
   "metadata": {
    "deletable": false,
    "editable": false,
    "nbgrader": {
     "cell_type": "code",
     "checksum": "40ce9cbe7df4abcf986ccb5e0aaa4834",
     "grade": false,
     "grade_id": "cell-a2e164b399176795",
     "locked": true,
     "schema_version": 3,
     "solution": false
    }
   },
   "outputs": [
    {
     "name": "stdout",
     "output_type": "stream",
     "text": [
      "313/313 [==============================] - 0s 1ms/step - loss: 0.4116 - accuracy: 0.8543\n",
      "Your CV accuracy score is: 0.8543000221252441\n"
     ]
    }
   ],
   "source": [
    "#scores = model.evaluate(X_test, Y_test, verbose=0)\n",
    "score = model.evaluate(X_test, y_test, verbose=1)\n",
    "print('Your CV accuracy score is:', score[1])\n"
   ]
  },
  {
   "cell_type": "markdown",
   "metadata": {
    "deletable": false,
    "editable": false,
    "nbgrader": {
     "cell_type": "markdown",
     "checksum": "68cb9ae3a3251c128cc961becdaa586b",
     "grade": false,
     "grade_id": "cell-10f4fd4d4908e9ea",
     "locked": true,
     "schema_version": 3,
     "solution": false
    }
   },
   "source": [
    "### STEP 5.  Inspect the output\n",
    "To get a sense of the performance of the model, let us inspect the cases that it misclassified in the validation set.  Recall that the validation set was <i>not</i> included in training;  from the point of view of the algorithm, these 10,000 images were new images, albeit drawn from the same population as the training data.  Thus, for our purposes, the validation set is functioning as a proper test set.  We may speak then of the \"cv/test set\".\n"
   ]
  },
  {
   "cell_type": "code",
   "execution_count": 183,
   "metadata": {},
   "outputs": [
    {
     "name": "stdout",
     "output_type": "stream",
     "text": [
      "Your classifier got the following 1457 items wrong out of 10,000:\n"
     ]
    },
    {
     "data": {
      "text/plain": [
       "array([  12,   17,   21, ..., 9979, 9985, 9989])"
      ]
     },
     "execution_count": 183,
     "metadata": {},
     "output_type": "execute_result"
    }
   ],
   "source": [
    "# The predict_classes function outputs the highest probability class\n",
    "# according to the trained classifier for each input example.\n",
    "predicted_classes = np.argmax(model.predict(X_test), axis=-1)\n",
    "\n",
    "\n",
    "# Identify which examples were correctly and incorrectly classified.\n",
    "correct_indices = np.nonzero(predicted_classes == y_test)[0]\n",
    "incorrect_indices = np.nonzero(predicted_classes != y_test)[0]\n",
    "\n",
    "# Count the number of incorrectly classified examples of 10,000 test cases\n",
    "len(incorrect_indices)\n",
    "print(\"Your classifier got the following \" + str(len(incorrect_indices)) + \" items wrong out of 10,000:\")\n",
    "incorrect_indices"
   ]
  },
  {
   "cell_type": "markdown",
   "metadata": {
    "deletable": false,
    "editable": false,
    "nbgrader": {
     "cell_type": "markdown",
     "checksum": "f06c4df409ecd5a4ed8184fe2e5fd35c",
     "grade": false,
     "grade_id": "cell-1a7948173586f7e4",
     "locked": true,
     "schema_version": 3,
     "solution": false
    }
   },
   "source": [
    "We discussed in class how inspecting the cases a classifier gets wrong might give you insights into how to modify your model.  So, let's plot a 3 x 4 table of correctly classified examples followed by a 3 x 4 table of incorrectly classified examples. "
   ]
  },
  {
   "cell_type": "code",
   "execution_count": 184,
   "metadata": {},
   "outputs": [
    {
     "name": "stdout",
     "output_type": "stream",
     "text": [
      "Examples of Correctly Classified Items:\n"
     ]
    },
    {
     "data": {
      "image/png": "[encoded data removed]",
      "text/plain": [
       "<Figure size 720x504 with 12 Axes>"
      ]
     },
     "metadata": {
      "needs_background": "light"
     },
     "output_type": "display_data"
    }
   ],
   "source": [
    "# examples of correctly classified images\n",
    "plt.figure(figsize= (10,7))\n",
    "for i, correct in enumerate(correct_indices[:12]):\n",
    "    plt.subplots_adjust(hspace=.5, wspace=.9)\n",
    "    plt.subplot(3,4,i+1)\n",
    "    plt.imshow(X_test[correct].reshape(28,28), cmap='gray', interpolation='none')\n",
    "    plt.title(\"Predicted {}, Class {}\".format(predicted_classes[correct], y_test[correct]))\n",
    "    \n",
    "print(\"Examples of Correctly Classified Items:\")"
   ]
  },
  {
   "cell_type": "code",
   "execution_count": 185,
   "metadata": {},
   "outputs": [
    {
     "name": "stdout",
     "output_type": "stream",
     "text": [
      "Examples of Inorrectly Classified Items:\n"
     ]
    },
    {
     "data": {
      "image/png": "[encoded data removed]",
      "text/plain": [
       "<Figure size 720x504 with 12 Axes>"
      ]
     },
     "metadata": {
      "needs_background": "light"
     },
     "output_type": "display_data"
    }
   ],
   "source": [
    "# examples of incorrectly classified images\n",
    "plt.figure(figsize= (10,7))\n",
    "for i, incorrect in enumerate(incorrect_indices[:12]):\n",
    "    plt.subplots_adjust(hspace=0.5, wspace=0.9)\n",
    "    plt.subplot(3,4,i+1)\n",
    "    plt.imshow(X_test[incorrect].reshape(28,28), cmap='gray', interpolation='none')\n",
    "    plt.title(\"Predicted {}, Class {}\".format(predicted_classes[incorrect], y_test[incorrect]))\n",
    "\n",
    "print(\"Examples of Inorrectly Classified Items:\")"
   ]
  },
  {
   "cell_type": "markdown",
   "metadata": {
    "deletable": false,
    "editable": false,
    "nbgrader": {
     "cell_type": "markdown",
     "checksum": "7a1cbdcfdc40ebd92fe05b807609faca",
     "grade": false,
     "grade_id": "cell-e2e0022845bc8c90",
     "locked": true,
     "schema_version": 3,
     "solution": false
    }
   },
   "source": [
    "# V. Your Task\n",
    "\n",
    "Your task is to specify a <b>network architecture</b> (i.e., specify the number of <b>hidden layers</b> and number of <b>nodes in each hidden layer</b>) and adjust the hyperparameters (i.e., select values for <b>Dropout rate(s)</b>, <b>batch size</b>, and number of <b>epochs</b>) in order to maximize the `val_accuracy` score.  \n",
    "\n",
    "How this assignment works is that a series of hidden test cells will be used to reward you the closer you get to a benchmark accuracy score for this data set, with full credit awarded only if you exceed that benchmark.  You don't know what that benchmark is, however, just like in real life.  You'll need to experiment with your model to see how high an `val_accuracy` score you can get.\n",
    "\n",
    "Here is how the grading will work.  I will take the model you specify in `buildSequentialModel()` (STEP 1, above) and use the hyperparameters `my_batch_size` and `my_epochs` you supply in `myDeepNetworkParameters()`, below, to train and test your model.  This assignment involves several stochastic processes, so to simulate the exact score that the grader will see, you must __clear your kernel and run your notebook exactly <i>once</i>__.  Although the model you fit and evalute in steps 2 and 3 are ignored by the grader, they nevertheless will be run, which means that the pseudorandom processes will be run as well which has an effect on your graded model.  Why? The random seeds ensure that precisely the same sequence of values from the pseudorandom processes will be generated, deterministically.  Since the grader will initialize and run your notebook exactly once, that is the condition under which you must evaluate your model to ensure the result you see is the result passed to the grader. \n",
    "\n",
    "\n",
    "<div class=\"alert alert-block alert-danger\">\n",
    "<b>WARNING:</b> The rules for collaboration will be strictly observed here.\n",
    "\n",
    "Specifically, YOU ARE NOT ALLOWED to copy one another's parameter settings.  The solution space is large enough that identical values are very unlikely; if they appear we will assume they were copied until you can convince us otherwise. And small pertubations can, and will, be spotted. Do not run the risk of <b>RECEIVING A ZERO</b> the entire assignment: <u>DO YOUR OWN WORK</u>.\n",
    "</div>\n",
    "\n",
    "---\n",
    "\n",
    "After experimenting with architectures and parameter settings to find the best model, in the next cell you will enter  the parameter settings from your best performing deep learning network.    \n",
    "\n",
    "~~~python\n",
    "def myDeepNetworkParameters():\n",
    "    \"\"\"This function is used for you to explicitly \n",
    "        state the hyperparameter settings for the deep \n",
    "        learning architecture you specified in \n",
    "        buildSequentialModel(). \n",
    "        \n",
    "        Specifically, this function asks you to specify\n",
    "        the number of epochs and the batch size.\n",
    "        \n",
    "        A series of hidden test cells will evaluate your\n",
    "        replicated test score. \n",
    "    \"\"\"\n",
    "    global my_batch_size\n",
    "    global my_epochs\n",
    "    # TEMPLATE ----\n",
    "    my_batch_size = ---  # your best model's number of batches \n",
    "    my_epochs =  ---    # your best model's number of epochs \n",
    "    return my_batchSize, my_epochs\n",
    "\n",
    "~~~\n"
   ]
  },
  {
   "cell_type": "code",
   "execution_count": 186,
   "metadata": {},
   "outputs": [
    {
     "data": {
      "text/plain": [
       "\" def buildSequentialModel():\\n    # Build a Sequential Model.\\n    model = Sequential()\\n    model.add(Flatten(input_shape=(28, 28)))\\n    \\n    # YOUR CODE HERE\\n    model.add(Dense(500, kernel_initializer='normal', activation='relu'))\\n    model.add(Dropout(0.1))\\n    \\n    model.add(Dense(500, kernel_initializer='normal', activation='relu'))\\n    model.add(Dropout(0.1))\\n\\n    # Output Layer\\n    model.add(Dense(10, activation='softmax'))\\n   \\n    return model \""
      ]
     },
     "execution_count": 186,
     "metadata": {},
     "output_type": "execute_result"
    }
   ],
   "source": [
    "''' def buildSequentialModel():\n",
    "    # Build a Sequential Model.\n",
    "    model = Sequential()\n",
    "    model.add(Flatten(input_shape=(28, 28)))\n",
    "    \n",
    "    # YOUR CODE HERE\n",
    "    model.add(Dense(500, kernel_initializer='normal', activation='relu'))\n",
    "    model.add(Dropout(0.1))\n",
    "    \n",
    "    model.add(Dense(500, kernel_initializer='normal', activation='relu'))\n",
    "    model.add(Dropout(0.1))\n",
    "\n",
    "    # Output Layer\n",
    "    model.add(Dense(10, activation='softmax'))\n",
    "   \n",
    "    return model '''"
   ]
  },
  {
   "cell_type": "markdown",
   "metadata": {
    "deletable": false,
    "editable": false,
    "nbgrader": {
     "cell_type": "markdown",
     "checksum": "b7561377eab881f9ea98f892983c1c21",
     "grade": false,
     "grade_id": "cell-04594a6a8ea3bc8c",
     "locked": true,
     "schema_version": 3,
     "solution": false,
     "task": false
    }
   },
   "source": [
    "## Instantiate, Compile and Score Your Model\n",
    "\n",
    "The next cell simply encodes your choice of _batch size_ and number of _epochs_ for training the model you specified with `buildSequentialModel()`.\n"
   ]
  },
  {
   "cell_type": "code",
   "execution_count": 187,
   "metadata": {
    "deletable": false,
    "nbgrader": {
     "cell_type": "code",
     "checksum": "46bd05e5f5cb05e0b4bb6e1ea47bf5bb",
     "grade": false,
     "grade_id": "cell-9bf510233c41857e",
     "locked": false,
     "schema_version": 3,
     "solution": true
    }
   },
   "outputs": [],
   "source": [
    "def myDeepNetworkParameters():\n",
    "    \"\"\"This function is used for you to explicitly \n",
    "        state the hyperparameter settings for the deep \n",
    "        learning architecture you specified in \n",
    "        buildSequentialModel(). \n",
    "        \n",
    "        Specifically, this function asks you to specify\n",
    "        the number of epochs and the batch size.\n",
    "        \n",
    "        A series of hidden test cells will evaluate your\n",
    "        replicated test score.. \n",
    "    \"\"\"\n",
    "    global my_batch_size\n",
    "    global my_epochs\n",
    "    my_batch_size=500\n",
    "    my_epochs=20\n",
    "\n",
    "    # YOUR CODE HERE\n",
    "    return my_batch_size, my_epochs "
   ]
  },
  {
   "cell_type": "markdown",
   "metadata": {
    "deletable": false,
    "editable": false,
    "nbgrader": {
     "cell_type": "markdown",
     "checksum": "24d4957d217d76bd3f861bf636478c91",
     "grade": false,
     "grade_id": "cell-afd89145072b4323",
     "locked": true,
     "schema_version": 3,
     "solution": false,
     "task": false
    }
   },
   "source": [
    "<div class=\"alert alert-block alert-info\">\n",
    "    <b>Instantiate and Compile Your Model: </b> \n",
    "    \n",
    "The next cell calls <b>buildSequentialModel()</b> that you finished  earlier in the assignment.\n",
    "    \n",
    "Note that running <b>buildSequentialModel()</b> multiple times <u>will return different values due to the stochastic nature of the algorithm.</u>  Therefore, to ensure that you are aware of the model that will be evaluated, you should <b>Restart and Clear Output</b> and run all cells <b>once</b> to observe the result the graders will evaluate.\n",
    " </div>"
   ]
  },
  {
   "cell_type": "code",
   "execution_count": 188,
   "metadata": {
    "deletable": false,
    "editable": false,
    "nbgrader": {
     "cell_type": "code",
     "checksum": "f48b069c11535cd229a9877cceb05e1d",
     "grade": false,
     "grade_id": "cell-ca356f3c07a1e1cd",
     "locked": true,
     "schema_version": 3,
     "solution": false,
     "task": false
    }
   },
   "outputs": [],
   "source": [
    "# instantiate model\n",
    "model = buildSequentialModel()\n",
    "# compile model\n",
    "model.compile(optimizer=keras.optimizers.Adam(learning_rate=0.001),\n",
    "                loss=keras.losses.SparseCategoricalCrossentropy(),\n",
    "                metrics=['accuracy'])"
   ]
  },
  {
   "cell_type": "markdown",
   "metadata": {},
   "source": [
    "<div class=\"alert alert-block alert-info\">\n",
    "<b>Scoring Your Model:</b>\n",
    "\n",
    "The next cell fits your model with your parameters.  This is followed by a cell that returns the `val_accuracy` score that will be passed to the graders (when the notebook is run once). Finally, your score is passed through a sequence of test cells, starting with a minimal validation accuracy of 0.84.  The higher your val_accuracy score, the more points you will earn.  \n",
    "    \n",
    "Good luck! \n",
    "</div>"
   ]
  },
  {
   "cell_type": "code",
   "execution_count": 189,
   "metadata": {
    "deletable": false,
    "editable": false,
    "nbgrader": {
     "cell_type": "code",
     "checksum": "61298cc4c3447979bf827f8bd7787842",
     "grade": true,
     "grade_id": "test-1",
     "locked": true,
     "points": 0.2,
     "schema_version": 3,
     "solution": false
    }
   },
   "outputs": [
    {
     "data": {
      "image/png": "[encoded data removed]",
      "text/plain": [
       "<Figure size 864x576 with 2 Axes>"
      ]
     },
     "metadata": {
      "needs_background": "light"
     },
     "output_type": "display_data"
    },
    {
     "name": "stdout",
     "output_type": "stream",
     "text": [
      "accuracy\n",
      "\ttraining         \t (min:    0.784, max:    0.925, cur:    0.925)\n",
      "\tvalidation       \t (min:    0.844, max:    0.896, cur:    0.896)\n",
      "Loss\n",
      "\ttraining         \t (min:    0.199, max:    0.615, cur:    0.199)\n",
      "\tvalidation       \t (min:    0.304, max:    0.447, cur:    0.304)\n"
     ]
    },
    {
     "data": {
      "text/plain": [
       "<keras.callbacks.History at 0x7f317bedc5c0>"
      ]
     },
     "execution_count": 189,
     "metadata": {},
     "output_type": "execute_result"
    }
   ],
   "source": [
    "myDeepNetworkParameters()\n",
    "print(\"Your submitted parameter settings: my_batch_size = %s, and my_epochs = %s.\" % (my_batch_size, my_epochs))\n",
    "model.fit(X_train, y_train, \n",
    "          callbacks=[PlotLossesKeras()],  # plots accuracy and loss\n",
    "          batch_size=my_batch_size, \n",
    "          epochs=my_epochs, \n",
    "          verbose=0,                      # change verbose to 1 to see each sequence\n",
    "          validation_data=(X_test, y_test))"
   ]
  },
  {
   "cell_type": "code",
   "execution_count": 190,
   "metadata": {
    "deletable": false,
    "editable": false,
    "nbgrader": {
     "cell_type": "code",
     "checksum": "e9f7a131abdc438a04bdc29eac1baf50",
     "grade": false,
     "grade_id": "cell-ca884197884dacbe",
     "locked": true,
     "schema_version": 3,
     "solution": false,
     "task": false
    }
   },
   "outputs": [
    {
     "name": "stdout",
     "output_type": "stream",
     "text": [
      "Your val_accuracy score is 0.8964999914169312\n"
     ]
    }
   ],
   "source": [
    "print(\"Your val_accuracy score is {}\".format(model.evaluate(X_test, y_test, verbose=0)[1]))"
   ]
  },
  {
   "cell_type": "code",
   "execution_count": 191,
   "metadata": {
    "deletable": false,
    "editable": false,
    "nbgrader": {
     "cell_type": "code",
     "checksum": "e29ca8a8c01decfd37dad20cb0cbfd64",
     "grade": true,
     "grade_id": "test-2",
     "locked": true,
     "points": 0.2,
     "schema_version": 3,
     "solution": false
    }
   },
   "outputs": [
    {
     "name": "stdout",
     "output_type": "stream",
     "text": [
      "True\n"
     ]
    }
   ],
   "source": [
    "# Test cell 2\n",
    "# Is your val_accuracy >= 0.84?\n",
    "print(model.evaluate(X_test, y_test, verbose=0)[1] >= 0.84)"
   ]
  },
  {
   "cell_type": "code",
   "execution_count": 192,
   "metadata": {
    "deletable": false,
    "editable": false,
    "nbgrader": {
     "cell_type": "code",
     "checksum": "59d5369dd4cb33bb3c038e4b3b152b34",
     "grade": true,
     "grade_id": "test-3",
     "locked": true,
     "points": 0.2,
     "schema_version": 3,
     "solution": false
    }
   },
   "outputs": [],
   "source": [
    "# Test cell 3"
   ]
  },
  {
   "cell_type": "code",
   "execution_count": 193,
   "metadata": {
    "deletable": false,
    "editable": false,
    "nbgrader": {
     "cell_type": "code",
     "checksum": "6c24883990aed385ea26a7435120340c",
     "grade": true,
     "grade_id": "test-4",
     "locked": true,
     "points": 0.4,
     "schema_version": 3,
     "solution": false
    }
   },
   "outputs": [],
   "source": [
    "# Test cell 4"
   ]
  },
  {
   "cell_type": "code",
   "execution_count": 194,
   "metadata": {
    "deletable": false,
    "editable": false,
    "nbgrader": {
     "cell_type": "code",
     "checksum": "6b1b2bc6f3b4202e8b52afc7d117cb24",
     "grade": true,
     "grade_id": "test-5",
     "locked": true,
     "points": 0.5,
     "schema_version": 3,
     "solution": false
    }
   },
   "outputs": [],
   "source": [
    "# Test cell 5"
   ]
  },
  {
   "cell_type": "code",
   "execution_count": 195,
   "metadata": {
    "deletable": false,
    "editable": false,
    "nbgrader": {
     "cell_type": "code",
     "checksum": "82c29e80f95719059ea8ad88d093d83c",
     "grade": true,
     "grade_id": "test-6",
     "locked": true,
     "points": 0.5,
     "schema_version": 3,
     "solution": false
    }
   },
   "outputs": [],
   "source": [
    "# Test cell 6"
   ]
  },
  {
   "cell_type": "code",
   "execution_count": 196,
   "metadata": {
    "deletable": false,
    "editable": false,
    "nbgrader": {
     "cell_type": "code",
     "checksum": "af1f4d7e55695ef54758bb73ed054b0b",
     "grade": true,
     "grade_id": "test-7",
     "locked": true,
     "points": 0.75,
     "schema_version": 3,
     "solution": false
    }
   },
   "outputs": [],
   "source": [
    "# Test cell 7"
   ]
  },
  {
   "cell_type": "code",
   "execution_count": 197,
   "metadata": {
    "deletable": false,
    "editable": false,
    "nbgrader": {
     "cell_type": "code",
     "checksum": "a68d451e4989f887766c58f0f160cb94",
     "grade": true,
     "grade_id": "test-8",
     "locked": true,
     "points": 0.75,
     "schema_version": 3,
     "solution": false
    }
   },
   "outputs": [],
   "source": [
    "# Test cell 8"
   ]
  },
  {
   "cell_type": "code",
   "execution_count": 198,
   "metadata": {
    "deletable": false,
    "editable": false,
    "nbgrader": {
     "cell_type": "code",
     "checksum": "95d6187c73ad10d33110912b0567a774",
     "grade": true,
     "grade_id": "test-9",
     "locked": true,
     "points": 0.5,
     "schema_version": 3,
     "solution": false
    }
   },
   "outputs": [],
   "source": [
    "# Test cell 9"
   ]
  },
  {
   "cell_type": "code",
   "execution_count": 199,
   "metadata": {
    "deletable": false,
    "editable": false,
    "nbgrader": {
     "cell_type": "code",
     "checksum": "129641db78e0dffed528d0a052e07132",
     "grade": true,
     "grade_id": "test-10",
     "locked": true,
     "points": 0.5,
     "schema_version": 3,
     "solution": false
    }
   },
   "outputs": [],
   "source": [
    "# Test cell 10"
   ]
  },
  {
   "cell_type": "code",
   "execution_count": 200,
   "metadata": {
    "deletable": false,
    "editable": false,
    "nbgrader": {
     "cell_type": "code",
     "checksum": "edd546b4afbe828259dc185fca8fd7b5",
     "grade": true,
     "grade_id": "test-11",
     "locked": true,
     "points": 0.5,
     "schema_version": 3,
     "solution": false
    }
   },
   "outputs": [],
   "source": [
    "# Test cell 11"
   ]
  },
  {
   "cell_type": "markdown",
   "metadata": {
    "deletable": false,
    "editable": false,
    "nbgrader": {
     "cell_type": "markdown",
     "checksum": "97a67f00e5203e08d31932dbc9a3adad",
     "grade": false,
     "grade_id": "cell-630204cd79c6ee4f",
     "locked": true,
     "schema_version": 3,
     "solution": false
    }
   },
   "source": [
    "Before turning this problem in remember to do the following steps and validate:\n",
    "\n",
    "0. **Remove any print statements you added**\n",
    "1. **Restart the kernel** (Kernel $\\rightarrow$ Restart)\n",
    "2. **Run all cells** (Cell $\\rightarrow$ Run All)\n",
    "3. **Save** (File $\\rightarrow$ Save and Checkpoint)"
   ]
  },
  {
   "cell_type": "code",
   "execution_count": null,
   "metadata": {},
   "outputs": [],
   "source": []
  }
 ],
 "metadata": {
  "kernelspec": {
   "display_name": "Python 3 (ipykernel)",
   "language": "python",
   "name": "python3"
  },
  "language_info": {
   "codemirror_mode": {
    "name": "ipython",
    "version": 3
   },
   "file_extension": ".py",
   "mimetype": "text/x-python",
   "name": "python",
   "nbconvert_exporter": "python",
   "pygments_lexer": "ipython3",
   "version": "3.10.7"
  }
 },
 "nbformat": 4,
 "nbformat_minor": 2
}
